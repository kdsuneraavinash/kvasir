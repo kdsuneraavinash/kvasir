{
 "cells": [
  {
   "cell_type": "markdown",
   "metadata": {},
   "source": [
    "# KVASIR Dataset (Small VGGNet)"
   ]
  },
  {
   "cell_type": "markdown",
   "metadata": {},
   "source": [
    "Based on https://www.pyimagesearch.com/2018/09/10/keras-tutorial-how-to-get-started-with-keras-deep-learning-and-python/"
   ]
  },
  {
   "cell_type": "markdown",
   "metadata": {},
   "source": [
    "## Loading dataset from disk"
   ]
  },
  {
   "cell_type": "markdown",
   "metadata": {},
   "source": [
    "Define data and labels. Here `data[i]` will contain resized and preprocessed images and `label[i]` will contain corresponding label for `data[i]`."
   ]
  },
  {
   "cell_type": "code",
   "execution_count": 1,
   "metadata": {},
   "outputs": [],
   "source": [
    "data = []\n",
    "labels = []"
   ]
  },
  {
   "cell_type": "markdown",
   "metadata": {},
   "source": [
    "Load image paths from `images` diresctory. Later shuffle image paths with a predetermined seed to maintain reproducibility."
   ]
  },
  {
   "cell_type": "code",
   "execution_count": 6,
   "metadata": {},
   "outputs": [],
   "source": [
    "import random\n",
    "import os"
   ]
  },
  {
   "cell_type": "code",
   "execution_count": 7,
   "metadata": {},
   "outputs": [],
   "source": [
    "RANDOM_SEED = 170081\n",
    "\n",
    "random.seed(RANDOM_SEED)"
   ]
  },
  {
   "cell_type": "markdown",
   "metadata": {},
   "source": [
    "Function to load all image files as paths."
   ]
  },
  {
   "cell_type": "code",
   "execution_count": 8,
   "metadata": {},
   "outputs": [],
   "source": [
    "def load_image_paths(base_path, image_extensions={'jpg'}):\n",
    "    \"\"\" Return a list of image files inside the `base_path` \"\"\"\n",
    "\n",
    "    image_paths = []\n",
    "    for (dir_path, _, file_names) in os.walk(base_path):\n",
    "        for file_name in file_names:\n",
    "            if '.' in file_name:\n",
    "                extension = file_name.split('.')[-1]\n",
    "                if extension in image_extensions:\n",
    "                    if '.ipynb' in dir_path:\n",
    "                        continue\n",
    "                    image_paths.append(os.path.join(dir_path, file_name))\n",
    "\n",
    "    random.shuffle(image_paths)\n",
    "\n",
    "    print(f\"[INFO] Found {len(image_paths)} images\")\n",
    "    return image_paths"
   ]
  },
  {
   "cell_type": "code",
   "execution_count": 9,
   "metadata": {},
   "outputs": [
    {
     "name": "stdout",
     "output_type": "stream",
     "text": [
      "[INFO] Found 8000 images\n"
     ]
    }
   ],
   "source": [
    "DATASET_DIRECTORY = \"images\"\n",
    "\n",
    "image_paths = load_image_paths(DATASET_DIRECTORY, {'jpg'})"
   ]
  },
  {
   "cell_type": "code",
   "execution_count": 10,
   "metadata": {},
   "outputs": [
    {
     "data": {
      "text/plain": [
       "['images/normal-pylorus/d6209da4-d445-41c8-a3b5-a2351b898d75.jpg',\n",
       " 'images/ulcerative-colitis/01c87d4d-4ae7-461c-91af-936972ce37ea.jpg',\n",
       " 'images/normal-pylorus/6bdf46f7-b863-4234-81b2-1accba351cdd.jpg',\n",
       " 'images/normal-cecum/a92763ab-f509-478d-b2c4-25a72435547e.jpg',\n",
       " 'images/normal-pylorus/ced08652-3513-4808-814a-a36953393c95.jpg']"
      ]
     },
     "execution_count": 10,
     "metadata": {},
     "output_type": "execute_result"
    }
   ],
   "source": [
    "image_paths[:5]"
   ]
  },
  {
   "cell_type": "markdown",
   "metadata": {},
   "source": [
    "Define a preprocessing function to accept a image path return and return a preprocessed and flattened numpy array of a predetermined size."
   ]
  },
  {
   "cell_type": "code",
   "execution_count": 11,
   "metadata": {},
   "outputs": [],
   "source": [
    "import cv2"
   ]
  },
  {
   "cell_type": "markdown",
   "metadata": {},
   "source": [
    "Resize images to 64x64. VGGNet requires images *not* to be flattened."
   ]
  },
  {
   "cell_type": "code",
   "execution_count": 12,
   "metadata": {},
   "outputs": [],
   "source": [
    "def preprocess_image(image_path, width=64, height=64):\n",
    "    image = cv2.imread(image_path)\n",
    "    image = cv2.resize(image, (width, height))\n",
    "    return image"
   ]
  },
  {
   "cell_type": "markdown",
   "metadata": {},
   "source": [
    "Preprocess each image and store flattened image(32*32*3=3072) in `data` list and label in `labels` list.\n",
    "\n",
    "Note: Each image should be in a directory corresponding to the class it belongs to"
   ]
  },
  {
   "cell_type": "code",
   "execution_count": 15,
   "metadata": {},
   "outputs": [],
   "source": [
    "import sys"
   ]
  },
  {
   "cell_type": "code",
   "execution_count": 17,
   "metadata": {},
   "outputs": [
    {
     "name": "stdout",
     "output_type": "stream",
     "text": [
      "[INFO] Started pre-processing\n",
      "[INFO] 0/8000 done. Mem allocated 6.09KB\n",
      "[INFO] 50/8000 done. Mem allocated 6.09KB\n",
      "[INFO] 100/8000 done. Mem allocated 6.89KB\n",
      "[INFO] 150/8000 done. Mem allocated 6.89KB\n",
      "[INFO] 200/8000 done. Mem allocated 7.80KB\n",
      "[INFO] 250/8000 done. Mem allocated 7.80KB\n",
      "[INFO] 300/8000 done. Mem allocated 8.81KB\n",
      "[INFO] 350/8000 done. Mem allocated 8.81KB\n",
      "[INFO] 400/8000 done. Mem allocated 8.81KB\n",
      "[INFO] 450/8000 done. Mem allocated 9.96KB\n",
      "[INFO] 500/8000 done. Mem allocated 9.96KB\n",
      "[INFO] 550/8000 done. Mem allocated 9.96KB\n",
      "[INFO] 600/8000 done. Mem allocated 11.25KB\n",
      "[INFO] 650/8000 done. Mem allocated 11.25KB\n",
      "[INFO] 700/8000 done. Mem allocated 11.25KB\n",
      "[INFO] 750/8000 done. Mem allocated 12.70KB\n",
      "[INFO] 800/8000 done. Mem allocated 12.70KB\n",
      "[INFO] 850/8000 done. Mem allocated 12.70KB\n",
      "[INFO] 900/8000 done. Mem allocated 12.70KB\n",
      "[INFO] 950/8000 done. Mem allocated 14.34KB\n",
      "[INFO] 1000/8000 done. Mem allocated 14.34KB\n",
      "[INFO] 1050/8000 done. Mem allocated 14.34KB\n",
      "[INFO] 1100/8000 done. Mem allocated 14.34KB\n",
      "[INFO] 1150/8000 done. Mem allocated 16.17KB\n",
      "[INFO] 1200/8000 done. Mem allocated 16.17KB\n",
      "[INFO] 1250/8000 done. Mem allocated 16.17KB\n",
      "[INFO] 1300/8000 done. Mem allocated 16.17KB\n",
      "[INFO] 1350/8000 done. Mem allocated 16.17KB\n",
      "[INFO] 1400/8000 done. Mem allocated 18.23KB\n",
      "[INFO] 1450/8000 done. Mem allocated 18.23KB\n",
      "[INFO] 1500/8000 done. Mem allocated 18.23KB\n",
      "[INFO] 1550/8000 done. Mem allocated 18.23KB\n",
      "[INFO] 1600/8000 done. Mem allocated 18.23KB\n",
      "[INFO] 1650/8000 done. Mem allocated 20.55KB\n",
      "[INFO] 1700/8000 done. Mem allocated 20.55KB\n",
      "[INFO] 1750/8000 done. Mem allocated 20.55KB\n",
      "[INFO] 1800/8000 done. Mem allocated 20.55KB\n",
      "[INFO] 1850/8000 done. Mem allocated 20.55KB\n",
      "[INFO] 1900/8000 done. Mem allocated 20.55KB\n",
      "[INFO] 1950/8000 done. Mem allocated 23.17KB\n",
      "[INFO] 2000/8000 done. Mem allocated 23.17KB\n",
      "[INFO] 2050/8000 done. Mem allocated 23.17KB\n",
      "[INFO] 2100/8000 done. Mem allocated 23.17KB\n",
      "[INFO] 2150/8000 done. Mem allocated 23.17KB\n",
      "[INFO] 2200/8000 done. Mem allocated 23.17KB\n",
      "[INFO] 2250/8000 done. Mem allocated 23.17KB\n",
      "[INFO] 2300/8000 done. Mem allocated 26.11KB\n",
      "[INFO] 2350/8000 done. Mem allocated 26.11KB\n",
      "[INFO] 2400/8000 done. Mem allocated 26.11KB\n",
      "[INFO] 2450/8000 done. Mem allocated 26.11KB\n",
      "[INFO] 2500/8000 done. Mem allocated 26.11KB\n",
      "[INFO] 2550/8000 done. Mem allocated 26.11KB\n",
      "[INFO] 2600/8000 done. Mem allocated 26.11KB\n",
      "[INFO] 2650/8000 done. Mem allocated 29.41KB\n",
      "[INFO] 2700/8000 done. Mem allocated 29.41KB\n",
      "[INFO] 2750/8000 done. Mem allocated 29.41KB\n",
      "[INFO] 2800/8000 done. Mem allocated 29.41KB\n",
      "[INFO] 2850/8000 done. Mem allocated 29.41KB\n",
      "[INFO] 2900/8000 done. Mem allocated 29.41KB\n",
      "[INFO] 2950/8000 done. Mem allocated 29.41KB\n",
      "[INFO] 3000/8000 done. Mem allocated 29.41KB\n",
      "[INFO] 3050/8000 done. Mem allocated 29.41KB\n",
      "[INFO] 3100/8000 done. Mem allocated 33.13KB\n",
      "[INFO] 3150/8000 done. Mem allocated 33.13KB\n",
      "[INFO] 3200/8000 done. Mem allocated 33.13KB\n",
      "[INFO] 3250/8000 done. Mem allocated 33.13KB\n",
      "[INFO] 3300/8000 done. Mem allocated 33.13KB\n",
      "[INFO] 3350/8000 done. Mem allocated 33.13KB\n",
      "[INFO] 3400/8000 done. Mem allocated 33.13KB\n",
      "[INFO] 3450/8000 done. Mem allocated 33.13KB\n",
      "[INFO] 3500/8000 done. Mem allocated 33.13KB\n",
      "[INFO] 3550/8000 done. Mem allocated 37.32KB\n",
      "[INFO] 3600/8000 done. Mem allocated 37.32KB\n",
      "[INFO] 3650/8000 done. Mem allocated 37.32KB\n",
      "[INFO] 3700/8000 done. Mem allocated 37.32KB\n",
      "[INFO] 3750/8000 done. Mem allocated 37.32KB\n",
      "[INFO] 3800/8000 done. Mem allocated 37.32KB\n",
      "[INFO] 3850/8000 done. Mem allocated 37.32KB\n",
      "[INFO] 3900/8000 done. Mem allocated 37.32KB\n",
      "[INFO] 3950/8000 done. Mem allocated 37.32KB\n",
      "[INFO] 4000/8000 done. Mem allocated 37.32KB\n",
      "[INFO] 4050/8000 done. Mem allocated 37.32KB\n",
      "[INFO] 4100/8000 done. Mem allocated 42.03KB\n",
      "[INFO] 4150/8000 done. Mem allocated 42.03KB\n",
      "[INFO] 4200/8000 done. Mem allocated 42.03KB\n",
      "[INFO] 4250/8000 done. Mem allocated 42.03KB\n",
      "[INFO] 4300/8000 done. Mem allocated 42.03KB\n",
      "[INFO] 4350/8000 done. Mem allocated 42.03KB\n",
      "[INFO] 4400/8000 done. Mem allocated 42.03KB\n",
      "[INFO] 4450/8000 done. Mem allocated 42.03KB\n",
      "[INFO] 4500/8000 done. Mem allocated 42.03KB\n",
      "[INFO] 4550/8000 done. Mem allocated 42.03KB\n",
      "[INFO] 4600/8000 done. Mem allocated 42.03KB\n",
      "[INFO] 4650/8000 done. Mem allocated 42.03KB\n",
      "[INFO] 4700/8000 done. Mem allocated 47.33KB\n",
      "[INFO] 4750/8000 done. Mem allocated 47.33KB\n",
      "[INFO] 4800/8000 done. Mem allocated 47.33KB\n",
      "[INFO] 4850/8000 done. Mem allocated 47.33KB\n",
      "[INFO] 4900/8000 done. Mem allocated 47.33KB\n",
      "[INFO] 4950/8000 done. Mem allocated 47.33KB\n",
      "[INFO] 5000/8000 done. Mem allocated 47.33KB\n",
      "[INFO] 5050/8000 done. Mem allocated 47.33KB\n",
      "[INFO] 5100/8000 done. Mem allocated 47.33KB\n",
      "[INFO] 5150/8000 done. Mem allocated 47.33KB\n",
      "[INFO] 5200/8000 done. Mem allocated 47.33KB\n",
      "[INFO] 5250/8000 done. Mem allocated 47.33KB\n",
      "[INFO] 5300/8000 done. Mem allocated 47.33KB\n",
      "[INFO] 5350/8000 done. Mem allocated 47.33KB\n",
      "[INFO] 5400/8000 done. Mem allocated 53.29KB\n",
      "[INFO] 5450/8000 done. Mem allocated 53.29KB\n",
      "[INFO] 5500/8000 done. Mem allocated 53.29KB\n",
      "[INFO] 5550/8000 done. Mem allocated 53.29KB\n",
      "[INFO] 5600/8000 done. Mem allocated 53.29KB\n",
      "[INFO] 5650/8000 done. Mem allocated 53.29KB\n",
      "[INFO] 5700/8000 done. Mem allocated 53.29KB\n",
      "[INFO] 5750/8000 done. Mem allocated 53.29KB\n",
      "[INFO] 5800/8000 done. Mem allocated 53.29KB\n",
      "[INFO] 5850/8000 done. Mem allocated 53.29KB\n",
      "[INFO] 5900/8000 done. Mem allocated 53.29KB\n",
      "[INFO] 5950/8000 done. Mem allocated 53.29KB\n",
      "[INFO] 6000/8000 done. Mem allocated 53.29KB\n",
      "[INFO] 6050/8000 done. Mem allocated 53.29KB\n",
      "[INFO] 6100/8000 done. Mem allocated 53.29KB\n",
      "[INFO] 6150/8000 done. Mem allocated 59.99KB\n",
      "[INFO] 6200/8000 done. Mem allocated 59.99KB\n",
      "[INFO] 6250/8000 done. Mem allocated 59.99KB\n",
      "[INFO] 6300/8000 done. Mem allocated 59.99KB\n",
      "[INFO] 6350/8000 done. Mem allocated 59.99KB\n",
      "[INFO] 6400/8000 done. Mem allocated 59.99KB\n",
      "[INFO] 6450/8000 done. Mem allocated 59.99KB\n",
      "[INFO] 6500/8000 done. Mem allocated 59.99KB\n",
      "[INFO] 6550/8000 done. Mem allocated 59.99KB\n",
      "[INFO] 6600/8000 done. Mem allocated 59.99KB\n",
      "[INFO] 6650/8000 done. Mem allocated 59.99KB\n",
      "[INFO] 6700/8000 done. Mem allocated 59.99KB\n",
      "[INFO] 6750/8000 done. Mem allocated 59.99KB\n",
      "[INFO] 6800/8000 done. Mem allocated 59.99KB\n",
      "[INFO] 6850/8000 done. Mem allocated 59.99KB\n",
      "[INFO] 6900/8000 done. Mem allocated 59.99KB\n",
      "[INFO] 6950/8000 done. Mem allocated 59.99KB\n",
      "[INFO] 7000/8000 done. Mem allocated 67.54KB\n",
      "[INFO] 7050/8000 done. Mem allocated 67.54KB\n",
      "[INFO] 7100/8000 done. Mem allocated 67.54KB\n",
      "[INFO] 7150/8000 done. Mem allocated 67.54KB\n",
      "[INFO] 7200/8000 done. Mem allocated 67.54KB\n",
      "[INFO] 7250/8000 done. Mem allocated 67.54KB\n",
      "[INFO] 7300/8000 done. Mem allocated 67.54KB\n",
      "[INFO] 7350/8000 done. Mem allocated 67.54KB\n",
      "[INFO] 7400/8000 done. Mem allocated 67.54KB\n",
      "[INFO] 7450/8000 done. Mem allocated 67.54KB\n",
      "[INFO] 7500/8000 done. Mem allocated 67.54KB\n",
      "[INFO] 7550/8000 done. Mem allocated 67.54KB\n",
      "[INFO] 7600/8000 done. Mem allocated 67.54KB\n",
      "[INFO] 7650/8000 done. Mem allocated 67.54KB\n",
      "[INFO] 7700/8000 done. Mem allocated 67.54KB\n",
      "[INFO] 7750/8000 done. Mem allocated 67.54KB\n",
      "[INFO] 7800/8000 done. Mem allocated 67.54KB\n",
      "[INFO] 7850/8000 done. Mem allocated 67.54KB\n",
      "[INFO] 7900/8000 done. Mem allocated 67.54KB\n",
      "[INFO] 7950/8000 done. Mem allocated 76.02KB\n",
      "[INFO] pre-processing completed\n"
     ]
    }
   ],
   "source": [
    "IMAGE_SIZE = 64\n",
    "IMAGE_DEPTH = 3\n",
    "\n",
    "print(\"[INFO] Started pre-processing\")\n",
    "\n",
    "for i in range(len(image_paths)):\n",
    "    image_path = image_paths[i]\n",
    "    \n",
    "    image = preprocess_image(image_path, width=IMAGE_SIZE, height=IMAGE_SIZE)\n",
    "    label = image_path.split(os.path.sep)[-2]\n",
    "    \n",
    "    data.append(image)\n",
    "    labels.append(label)\n",
    "    \n",
    "    if i%50 == 0:\n",
    "        print(f\"[INFO] {i}/{len(image_paths)} done. \" + \n",
    "              f\"Mem allocated {sys.getsizeof(data)/1024:.2f}KB\")\n",
    "\n",
    "print(\"[INFO] pre-processing completed\")"
   ]
  },
  {
   "cell_type": "code",
   "execution_count": 46,
   "metadata": {},
   "outputs": [
    {
     "data": {
      "text/plain": [
       "(array([[[0.        , 0.        , 0.        ],\n",
       "         [0.        , 0.        , 0.        ],\n",
       "         [0.        , 0.        , 0.        ],\n",
       "         ...,\n",
       "         [0.        , 0.        , 0.        ],\n",
       "         [0.        , 0.        , 0.        ],\n",
       "         [0.        , 0.        , 0.        ]],\n",
       " \n",
       "        [[0.        , 0.        , 0.        ],\n",
       "         [0.        , 0.        , 0.        ],\n",
       "         [0.        , 0.        , 0.        ],\n",
       "         ...,\n",
       "         [0.        , 0.        , 0.        ],\n",
       "         [0.18823529, 0.18823529, 0.18823529],\n",
       "         [0.        , 0.        , 0.        ]],\n",
       " \n",
       "        [[0.        , 0.        , 0.        ],\n",
       "         [0.        , 0.        , 0.        ],\n",
       "         [0.        , 0.        , 0.        ],\n",
       "         ...,\n",
       "         [0.        , 0.        , 0.        ],\n",
       "         [0.37254902, 0.37254902, 0.37254902],\n",
       "         [0.        , 0.        , 0.        ]],\n",
       " \n",
       "        ...,\n",
       " \n",
       "        [[0.        , 0.        , 0.        ],\n",
       "         [0.        , 0.        , 0.        ],\n",
       "         [0.        , 0.        , 0.        ],\n",
       "         ...,\n",
       "         [0.        , 0.        , 0.        ],\n",
       "         [0.        , 0.        , 0.        ],\n",
       "         [0.        , 0.        , 0.        ]],\n",
       " \n",
       "        [[0.        , 0.        , 0.        ],\n",
       "         [0.        , 0.        , 0.        ],\n",
       "         [0.        , 0.        , 0.        ],\n",
       "         ...,\n",
       "         [0.        , 0.        , 0.        ],\n",
       "         [0.        , 0.        , 0.        ],\n",
       "         [0.        , 0.        , 0.        ]],\n",
       " \n",
       "        [[0.00392157, 0.00392157, 0.        ],\n",
       "         [0.00392157, 0.        , 0.        ],\n",
       "         [0.00392157, 0.00392157, 0.00784314],\n",
       "         ...,\n",
       "         [0.00392157, 0.00392157, 0.00392157],\n",
       "         [0.        , 0.00392157, 0.        ],\n",
       "         [0.00392157, 0.00392157, 0.        ]]]), 'esophagitis')"
      ]
     },
     "execution_count": 46,
     "metadata": {},
     "output_type": "execute_result"
    }
   ],
   "source": [
    "data[5], labels[5]"
   ]
  },
  {
   "cell_type": "markdown",
   "metadata": {},
   "source": [
    "Scale pixel values to be in between 0-1 instead of 0-255. Also converts them to a numpy array."
   ]
  },
  {
   "cell_type": "code",
   "execution_count": 19,
   "metadata": {},
   "outputs": [],
   "source": [
    "import numpy as np"
   ]
  },
  {
   "cell_type": "code",
   "execution_count": 20,
   "metadata": {},
   "outputs": [],
   "source": [
    "data = np.array(data, dtype='float')\n",
    "labels = np.array(labels)\n",
    "\n",
    "data = data / 255"
   ]
  },
  {
   "cell_type": "code",
   "execution_count": 47,
   "metadata": {},
   "outputs": [
    {
     "data": {
      "text/plain": [
       "(array([[[0.        , 0.        , 0.        ],\n",
       "         [0.        , 0.        , 0.        ],\n",
       "         [0.        , 0.        , 0.        ],\n",
       "         ...,\n",
       "         [0.        , 0.        , 0.        ],\n",
       "         [0.        , 0.        , 0.        ],\n",
       "         [0.        , 0.        , 0.        ]],\n",
       " \n",
       "        [[0.        , 0.        , 0.        ],\n",
       "         [0.        , 0.        , 0.        ],\n",
       "         [0.        , 0.        , 0.        ],\n",
       "         ...,\n",
       "         [0.        , 0.        , 0.        ],\n",
       "         [0.18823529, 0.18823529, 0.18823529],\n",
       "         [0.        , 0.        , 0.        ]],\n",
       " \n",
       "        [[0.        , 0.        , 0.        ],\n",
       "         [0.        , 0.        , 0.        ],\n",
       "         [0.        , 0.        , 0.        ],\n",
       "         ...,\n",
       "         [0.        , 0.        , 0.        ],\n",
       "         [0.37254902, 0.37254902, 0.37254902],\n",
       "         [0.        , 0.        , 0.        ]],\n",
       " \n",
       "        ...,\n",
       " \n",
       "        [[0.        , 0.        , 0.        ],\n",
       "         [0.        , 0.        , 0.        ],\n",
       "         [0.        , 0.        , 0.        ],\n",
       "         ...,\n",
       "         [0.        , 0.        , 0.        ],\n",
       "         [0.        , 0.        , 0.        ],\n",
       "         [0.        , 0.        , 0.        ]],\n",
       " \n",
       "        [[0.        , 0.        , 0.        ],\n",
       "         [0.        , 0.        , 0.        ],\n",
       "         [0.        , 0.        , 0.        ],\n",
       "         ...,\n",
       "         [0.        , 0.        , 0.        ],\n",
       "         [0.        , 0.        , 0.        ],\n",
       "         [0.        , 0.        , 0.        ]],\n",
       " \n",
       "        [[0.00392157, 0.00392157, 0.        ],\n",
       "         [0.00392157, 0.        , 0.        ],\n",
       "         [0.00392157, 0.00392157, 0.00784314],\n",
       "         ...,\n",
       "         [0.00392157, 0.00392157, 0.00392157],\n",
       "         [0.        , 0.00392157, 0.        ],\n",
       "         [0.00392157, 0.00392157, 0.        ]]]), 'esophagitis')"
      ]
     },
     "execution_count": 47,
     "metadata": {},
     "output_type": "execute_result"
    }
   ],
   "source": [
    "data[5], labels[5]"
   ]
  },
  {
   "cell_type": "markdown",
   "metadata": {},
   "source": [
    "## Split into training and testing sets"
   ]
  },
  {
   "cell_type": "code",
   "execution_count": 22,
   "metadata": {},
   "outputs": [],
   "source": [
    "from sklearn.model_selection import train_test_split"
   ]
  },
  {
   "cell_type": "code",
   "execution_count": 23,
   "metadata": {},
   "outputs": [],
   "source": [
    "train_x, test_x, train_y, test_y = train_test_split(data, labels, \\\n",
    "                                                    test_size=0.25, \\\n",
    "                                                    random_state=RANDOM_SEED)"
   ]
  },
  {
   "cell_type": "code",
   "execution_count": 48,
   "metadata": {},
   "outputs": [
    {
     "data": {
      "text/plain": [
       "array([[[0.01176471, 0.01176471, 0.01176471],\n",
       "        [0.01176471, 0.01176471, 0.01176471],\n",
       "        [0.01176471, 0.01176471, 0.01176471],\n",
       "        ...,\n",
       "        [0.00392157, 0.01568627, 0.00784314],\n",
       "        [0.00392157, 0.01568627, 0.00784314],\n",
       "        [0.00784314, 0.00784314, 0.00784314]],\n",
       "\n",
       "       [[0.01176471, 0.01176471, 0.01176471],\n",
       "        [0.01176471, 0.01176471, 0.01176471],\n",
       "        [0.01176471, 0.01176471, 0.01176471],\n",
       "        ...,\n",
       "        [0.00392157, 0.01568627, 0.00784314],\n",
       "        [0.00392157, 0.01568627, 0.00784314],\n",
       "        [0.00784314, 0.00784314, 0.00784314]],\n",
       "\n",
       "       [[0.01176471, 0.01176471, 0.01176471],\n",
       "        [0.01176471, 0.01176471, 0.01176471],\n",
       "        [0.01176471, 0.01176471, 0.01176471],\n",
       "        ...,\n",
       "        [0.01176471, 0.01568627, 0.00784314],\n",
       "        [0.01176471, 0.01568627, 0.00784314],\n",
       "        [0.01568627, 0.01568627, 0.01568627]],\n",
       "\n",
       "       ...,\n",
       "\n",
       "       [[0.00392157, 0.00392157, 0.00392157],\n",
       "        [0.00784314, 0.00784314, 0.00784314],\n",
       "        [0.00784314, 0.00784314, 0.00784314],\n",
       "        ...,\n",
       "        [0.00784314, 0.00784314, 0.00784314],\n",
       "        [0.00392157, 0.00392157, 0.00392157],\n",
       "        [0.00784314, 0.00784314, 0.00784314]],\n",
       "\n",
       "       [[0.00392157, 0.00392157, 0.00392157],\n",
       "        [0.00392157, 0.00392157, 0.00392157],\n",
       "        [0.00392157, 0.00392157, 0.00392157],\n",
       "        ...,\n",
       "        [0.00392157, 0.00784314, 0.        ],\n",
       "        [0.        , 0.00392157, 0.        ],\n",
       "        [0.00392157, 0.00392157, 0.00392157]],\n",
       "\n",
       "       [[0.        , 0.        , 0.        ],\n",
       "        [0.00784314, 0.00784314, 0.00784314],\n",
       "        [0.00392157, 0.00392157, 0.00392157],\n",
       "        ...,\n",
       "        [0.        , 0.00392157, 0.        ],\n",
       "        [0.        , 0.00392157, 0.        ],\n",
       "        [0.        , 0.        , 0.        ]]])"
      ]
     },
     "execution_count": 48,
     "metadata": {},
     "output_type": "execute_result"
    }
   ],
   "source": [
    "train_x[5]"
   ]
  },
  {
   "cell_type": "code",
   "execution_count": 49,
   "metadata": {},
   "outputs": [
    {
     "data": {
      "text/plain": [
       "array([0, 0, 0, 0, 0, 0, 0, 1])"
      ]
     },
     "execution_count": 49,
     "metadata": {},
     "output_type": "execute_result"
    }
   ],
   "source": [
    "train_y[5]"
   ]
  },
  {
   "cell_type": "code",
   "execution_count": 50,
   "metadata": {},
   "outputs": [
    {
     "data": {
      "text/plain": [
       "array([[[0.00784314, 0.00784314, 0.00784314],\n",
       "        [0.01176471, 0.01176471, 0.01176471],\n",
       "        [0.01176471, 0.01176471, 0.01176471],\n",
       "        ...,\n",
       "        [0.01176471, 0.01176471, 0.01176471],\n",
       "        [0.00784314, 0.01176471, 0.00392157],\n",
       "        [0.01176471, 0.01176471, 0.01176471]],\n",
       "\n",
       "       [[0.01176471, 0.01176471, 0.01176471],\n",
       "        [0.00392157, 0.00784314, 0.00784314],\n",
       "        [0.00784314, 0.01176471, 0.01176471],\n",
       "        ...,\n",
       "        [0.00392157, 0.01176471, 0.01176471],\n",
       "        [0.01176471, 0.01176471, 0.01176471],\n",
       "        [0.01176471, 0.01176471, 0.01176471]],\n",
       "\n",
       "       [[0.01176471, 0.01176471, 0.01176471],\n",
       "        [0.01176471, 0.01176471, 0.01176471],\n",
       "        [0.00784314, 0.01176471, 0.01176471],\n",
       "        ...,\n",
       "        [0.01176471, 0.01176471, 0.01176471],\n",
       "        [0.        , 0.00784314, 0.00784314],\n",
       "        [0.00392157, 0.01176471, 0.01176471]],\n",
       "\n",
       "       ...,\n",
       "\n",
       "       [[0.        , 0.        , 0.        ],\n",
       "        [0.00392157, 0.00784314, 0.        ],\n",
       "        [0.00392157, 0.00392157, 0.00392157],\n",
       "        ...,\n",
       "        [0.00392157, 0.00392157, 0.00392157],\n",
       "        [0.00392157, 0.00392157, 0.00392157],\n",
       "        [0.00392157, 0.00392157, 0.00392157]],\n",
       "\n",
       "       [[0.00784314, 0.00784314, 0.00784314],\n",
       "        [0.        , 0.00784314, 0.00784314],\n",
       "        [0.        , 0.00784314, 0.00784314],\n",
       "        ...,\n",
       "        [0.00784314, 0.00784314, 0.00784314],\n",
       "        [0.00784314, 0.00784314, 0.00784314],\n",
       "        [0.        , 0.00392157, 0.00392157]],\n",
       "\n",
       "       [[0.00784314, 0.00784314, 0.00784314],\n",
       "        [0.00784314, 0.00784314, 0.00784314],\n",
       "        [0.00392157, 0.00392157, 0.00392157],\n",
       "        ...,\n",
       "        [0.        , 0.00784314, 0.00784314],\n",
       "        [0.01176471, 0.01176471, 0.01176471],\n",
       "        [0.00392157, 0.00392157, 0.00392157]]])"
      ]
     },
     "execution_count": 50,
     "metadata": {},
     "output_type": "execute_result"
    }
   ],
   "source": [
    "test_x[5]"
   ]
  },
  {
   "cell_type": "code",
   "execution_count": 51,
   "metadata": {},
   "outputs": [
    {
     "data": {
      "text/plain": [
       "array([0, 1, 0, 0, 0, 0, 0, 0])"
      ]
     },
     "execution_count": 51,
     "metadata": {},
     "output_type": "execute_result"
    }
   ],
   "source": [
    "test_y[5]"
   ]
  },
  {
   "cell_type": "markdown",
   "metadata": {},
   "source": [
    "Keras will assume that,\n",
    "* Labels are encoded as integers\n",
    "* Labels are on-hot encoded\n",
    "\n",
    "So labels have to be encoded as such. For this scikit learn label binarizer is used. However if this is 2-class only, use Keras' to_categorical function."
   ]
  },
  {
   "cell_type": "code",
   "execution_count": 28,
   "metadata": {},
   "outputs": [],
   "source": [
    "from sklearn.preprocessing import LabelBinarizer"
   ]
  },
  {
   "cell_type": "code",
   "execution_count": 29,
   "metadata": {},
   "outputs": [],
   "source": [
    "label_binarizer = LabelBinarizer()"
   ]
  },
  {
   "cell_type": "code",
   "execution_count": 30,
   "metadata": {},
   "outputs": [],
   "source": [
    "label_binarizer.fit(labels)\n",
    "\n",
    "train_y = label_binarizer.transform(train_y)\n",
    "test_y = label_binarizer.transform(test_y)"
   ]
  },
  {
   "cell_type": "code",
   "execution_count": 31,
   "metadata": {},
   "outputs": [
    {
     "data": {
      "text/plain": [
       "array([[1, 0, 0, 0, 0, 0, 0, 0],\n",
       "       [0, 0, 0, 0, 0, 0, 1, 0],\n",
       "       [0, 0, 0, 1, 0, 0, 0, 0],\n",
       "       [1, 0, 0, 0, 0, 0, 0, 0],\n",
       "       [1, 0, 0, 0, 0, 0, 0, 0]])"
      ]
     },
     "execution_count": 31,
     "metadata": {},
     "output_type": "execute_result"
    }
   ],
   "source": [
    "train_y[:5]"
   ]
  },
  {
   "cell_type": "code",
   "execution_count": 32,
   "metadata": {},
   "outputs": [
    {
     "data": {
      "text/plain": [
       "array([[0, 0, 0, 0, 1, 0, 0, 0],\n",
       "       [0, 1, 0, 0, 0, 0, 0, 0],\n",
       "       [0, 0, 0, 1, 0, 0, 0, 0],\n",
       "       [0, 0, 0, 0, 0, 1, 0, 0],\n",
       "       [0, 1, 0, 0, 0, 0, 0, 0]])"
      ]
     },
     "execution_count": 32,
     "metadata": {},
     "output_type": "execute_result"
    }
   ],
   "source": [
    "test_y[:5]"
   ]
  },
  {
   "cell_type": "markdown",
   "metadata": {},
   "source": [
    "## Defining and Compiling Keras Model Architecture"
   ]
  },
  {
   "cell_type": "code",
   "execution_count": 37,
   "metadata": {},
   "outputs": [],
   "source": [
    "from keras.models import Sequential\n",
    "from keras.layers.normalization import BatchNormalization\n",
    "from keras.layers.convolutional import Conv2D\n",
    "from keras.layers.convolutional import MaxPooling2D\n",
    "from keras.layers.core import Activation\n",
    "from keras.layers.core import Flatten\n",
    "from keras.layers.core import Dropout\n",
    "from keras.layers.core import Dense"
   ]
  },
  {
   "cell_type": "code",
   "execution_count": 38,
   "metadata": {},
   "outputs": [],
   "source": [
    "class SmallVGGNet:\n",
    "    @staticmethod\n",
    "    def build(width, height, depth, n_classes):\n",
    "        model = Sequential()\n",
    "        input_shape = (height, width,  depth)\n",
    "        channel_dimention = -1 # Specific for tensorflow - channels_last\n",
    "        \n",
    "        # (Conv => Relu) +=> Pool <>\n",
    "        \n",
    "        # Convolutional input layer\n",
    "        model.add(Conv2D(32, (3, 3), padding=\"same\", input_shape=input_shape))\n",
    "        # ReLU (Rectified Linear Unit) activation function\n",
    "        model.add(Activation(\"relu\"))\n",
    "        # Normalize the activations of a given input volume (reduces epochs to train)\n",
    "        model.add(BatchNormalization(axis=channel_dimention))\n",
    "        # Reduce spatial size (downsampling)\n",
    "        model.add(MaxPooling2D(pool_size=(2, 2)))\n",
    "        # Disconnecting random neurons between layers (reduce overfitting)\n",
    "        model.add(Dropout(0.25))\n",
    "        \n",
    "        # (Conv => Relu) +=> (Conv => Relu) +=> Pool <>\n",
    "        \n",
    "        model.add(Conv2D(64, (3, 3), padding=\"same\"))\n",
    "        model.add(Activation(\"relu\"))\n",
    "        model.add(BatchNormalization(axis=channel_dimention))\n",
    "        \n",
    "        model.add(Conv2D(64, (3, 3), padding=\"same\"))\n",
    "        model.add(Activation(\"relu\"))\n",
    "        model.add(BatchNormalization(axis=channel_dimention))\n",
    "        \n",
    "        model.add(MaxPooling2D(pool_size=(2, 2)))\n",
    "        model.add(Dropout(0.25))\n",
    "        \n",
    "        # (Conv => Relu) +=> (Conv => Relu) +=> (Conv => Relu) +=> Pool <>\n",
    "        \n",
    "        model.add(Conv2D(128, (3, 3), padding=\"same\"))\n",
    "        model.add(Activation(\"relu\"))\n",
    "        model.add(BatchNormalization(axis=channel_dimention))\n",
    "        \n",
    "        model.add(Conv2D(128, (3, 3), padding=\"same\"))\n",
    "        model.add(Activation(\"relu\"))\n",
    "        model.add(BatchNormalization(axis=channel_dimention))\n",
    "        \n",
    "        model.add(Conv2D(128, (3, 3), padding=\"same\"))\n",
    "        model.add(Activation(\"relu\"))\n",
    "        model.add(BatchNormalization(axis=channel_dimention))\n",
    "        \n",
    "        model.add(MaxPooling2D(pool_size=(2, 2)))\n",
    "        model.add(Dropout(0.25))\n",
    "        \n",
    "        # |=> (Dense => Relu) +=> <>\n",
    "        \n",
    "        model.add(Flatten())\n",
    "        model.add(Dense(512))\n",
    "        model.add(Activation(\"relu\"))\n",
    "        model.add(BatchNormalization())\n",
    "        model.add(Dropout(0.5))\n",
    "        \n",
    "        # (Dense => Softmax)\n",
    "        \n",
    "        model.add(Dense(n_classes))\n",
    "        model.add(Activation(\"softmax\"))\n",
    "        \n",
    "        return model\n",
    "        \n",
    "        "
   ]
  },
  {
   "cell_type": "code",
   "execution_count": 39,
   "metadata": {},
   "outputs": [],
   "source": [
    "from keras.preprocessing.image import ImageDataGenerator"
   ]
  },
  {
   "cell_type": "markdown",
   "metadata": {},
   "source": [
    "Image data geterator to construct additional data from exsisting data by randomly rotation, etc..."
   ]
  },
  {
   "cell_type": "code",
   "execution_count": 41,
   "metadata": {},
   "outputs": [],
   "source": [
    "aug = ImageDataGenerator(rotation_range=30, width_shift_range =0.1,\n",
    "                        height_shift_range=0.1, shear_range=0.2,\n",
    "                        zoom_range=0.2, horizontal_flip=True,\n",
    "                        fill_mode='nearest')"
   ]
  },
  {
   "cell_type": "markdown",
   "metadata": {},
   "source": [
    "Generate model from the defined SmallVGGNet class"
   ]
  },
  {
   "cell_type": "code",
   "execution_count": 53,
   "metadata": {},
   "outputs": [
    {
     "name": "stderr",
     "output_type": "stream",
     "text": [
      "WARNING: Logging before flag parsing goes to stderr.\n",
      "W0812 03:35:38.333747 139745493452608 deprecation_wrapper.py:119] From /home/kdsuneraavinash/Programs/miniconda3/envs/tf/lib/python3.7/site-packages/keras/backend/tensorflow_backend.py:74: The name tf.get_default_graph is deprecated. Please use tf.compat.v1.get_default_graph instead.\n",
      "\n",
      "W0812 03:35:38.340349 139745493452608 deprecation_wrapper.py:119] From /home/kdsuneraavinash/Programs/miniconda3/envs/tf/lib/python3.7/site-packages/keras/backend/tensorflow_backend.py:517: The name tf.placeholder is deprecated. Please use tf.compat.v1.placeholder instead.\n",
      "\n",
      "W0812 03:35:38.411375 139745493452608 deprecation_wrapper.py:119] From /home/kdsuneraavinash/Programs/miniconda3/envs/tf/lib/python3.7/site-packages/keras/backend/tensorflow_backend.py:4138: The name tf.random_uniform is deprecated. Please use tf.random.uniform instead.\n",
      "\n",
      "W0812 03:35:38.489980 139745493452608 deprecation_wrapper.py:119] From /home/kdsuneraavinash/Programs/miniconda3/envs/tf/lib/python3.7/site-packages/keras/backend/tensorflow_backend.py:174: The name tf.get_default_session is deprecated. Please use tf.compat.v1.get_default_session instead.\n",
      "\n",
      "W0812 03:35:38.490878 139745493452608 deprecation_wrapper.py:119] From /home/kdsuneraavinash/Programs/miniconda3/envs/tf/lib/python3.7/site-packages/keras/backend/tensorflow_backend.py:181: The name tf.ConfigProto is deprecated. Please use tf.compat.v1.ConfigProto instead.\n",
      "\n",
      "W0812 03:35:39.402428 139745493452608 deprecation_wrapper.py:119] From /home/kdsuneraavinash/Programs/miniconda3/envs/tf/lib/python3.7/site-packages/keras/backend/tensorflow_backend.py:1834: The name tf.nn.fused_batch_norm is deprecated. Please use tf.compat.v1.nn.fused_batch_norm instead.\n",
      "\n",
      "W0812 03:35:39.506170 139745493452608 deprecation_wrapper.py:119] From /home/kdsuneraavinash/Programs/miniconda3/envs/tf/lib/python3.7/site-packages/keras/backend/tensorflow_backend.py:3976: The name tf.nn.max_pool is deprecated. Please use tf.nn.max_pool2d instead.\n",
      "\n",
      "W0812 03:35:39.518361 139745493452608 deprecation.py:506] From /home/kdsuneraavinash/Programs/miniconda3/envs/tf/lib/python3.7/site-packages/keras/backend/tensorflow_backend.py:3445: calling dropout (from tensorflow.python.ops.nn_ops) with keep_prob is deprecated and will be removed in a future version.\n",
      "Instructions for updating:\n",
      "Please use `rate` instead of `keep_prob`. Rate should be set to `rate = 1 - keep_prob`.\n"
     ]
    }
   ],
   "source": [
    "model = SmallVGGNet.build(width=IMAGE_SIZE, height=IMAGE_SIZE, \n",
    "                          depth=IMAGE_DEPTH, n_classes=len(label_binarizer.classes_))"
   ]
  },
  {
   "cell_type": "markdown",
   "metadata": {},
   "source": [
    "Compile the model using SGD(Stochastic Gradient Descent) as optimizer and categorical cross-entropy loss (use binary_crossentropy for 2-class classification)"
   ]
  },
  {
   "cell_type": "code",
   "execution_count": 54,
   "metadata": {},
   "outputs": [],
   "source": [
    "from keras.optimizers import SGD"
   ]
  },
  {
   "cell_type": "code",
   "execution_count": 55,
   "metadata": {},
   "outputs": [
    {
     "name": "stderr",
     "output_type": "stream",
     "text": [
      "W0812 03:35:55.381496 139745493452608 deprecation_wrapper.py:119] From /home/kdsuneraavinash/Programs/miniconda3/envs/tf/lib/python3.7/site-packages/keras/optimizers.py:790: The name tf.train.Optimizer is deprecated. Please use tf.compat.v1.train.Optimizer instead.\n",
      "\n"
     ]
    }
   ],
   "source": [
    "INITIAL_LEARNING_RATE = 0.01\n",
    "EPOCHS = 75\n",
    "BATCH_SIZE = 32\n",
    "\n",
    "optimizer = SGD(lr=INITIAL_LEARNING_RATE, decay=INITIAL_LEARNING_RATE/EPOCHS)\n",
    "model.compile(loss='categorical_crossentropy', optimizer=optimizer,\\\n",
    "             metrics=['accuracy'])"
   ]
  },
  {
   "cell_type": "markdown",
   "metadata": {},
   "source": [
    "## Training the Model"
   ]
  },
  {
   "cell_type": "code",
   "execution_count": 56,
   "metadata": {},
   "outputs": [
    {
     "name": "stdout",
     "output_type": "stream",
     "text": [
      "[INFO] training network\n"
     ]
    },
    {
     "name": "stderr",
     "output_type": "stream",
     "text": [
      "W0812 03:38:20.704694 139745493452608 deprecation.py:323] From /home/kdsuneraavinash/Programs/miniconda3/envs/tf/lib/python3.7/site-packages/tensorflow/python/ops/math_grad.py:1250: add_dispatch_support.<locals>.wrapper (from tensorflow.python.ops.array_ops) is deprecated and will be removed in a future version.\n",
      "Instructions for updating:\n",
      "Use tf.where in 2.0, which has the same broadcast rule as np.where\n"
     ]
    },
    {
     "name": "stdout",
     "output_type": "stream",
     "text": [
      "Epoch 1/75\n",
      "203/203 [==============================] - 77s 377ms/step - loss: 1.4282 - acc: 0.5089 - val_loss: 2.3976 - val_acc: 0.4365\n",
      "Epoch 2/75\n",
      "203/203 [==============================] - 72s 356ms/step - loss: 0.9806 - acc: 0.6099 - val_loss: 1.0621 - val_acc: 0.6030\n",
      "Epoch 3/75\n",
      "203/203 [==============================] - 72s 355ms/step - loss: 0.8703 - acc: 0.6329 - val_loss: 1.5920 - val_acc: 0.5106\n",
      "Epoch 4/75\n",
      "203/203 [==============================] - 72s 356ms/step - loss: 0.8196 - acc: 0.6411 - val_loss: 0.9247 - val_acc: 0.6325\n",
      "Epoch 5/75\n",
      "203/203 [==============================] - 72s 355ms/step - loss: 0.7812 - acc: 0.6564 - val_loss: 1.9978 - val_acc: 0.4388\n",
      "Epoch 6/75\n",
      "203/203 [==============================] - 73s 362ms/step - loss: 0.7394 - acc: 0.6718 - val_loss: 1.4178 - val_acc: 0.5543\n",
      "Epoch 7/75\n",
      "203/203 [==============================] - 72s 355ms/step - loss: 0.7232 - acc: 0.6748 - val_loss: 0.6721 - val_acc: 0.7052\n",
      "Epoch 8/75\n",
      "203/203 [==============================] - 72s 355ms/step - loss: 0.6992 - acc: 0.6768 - val_loss: 0.7562 - val_acc: 0.6826\n",
      "Epoch 9/75\n",
      "203/203 [==============================] - 72s 355ms/step - loss: 0.6750 - acc: 0.6890 - val_loss: 0.6427 - val_acc: 0.7249\n",
      "Epoch 10/75\n",
      "203/203 [==============================] - 74s 362ms/step - loss: 0.6616 - acc: 0.7002 - val_loss: 0.8733 - val_acc: 0.6582\n",
      "Epoch 11/75\n",
      "203/203 [==============================] - 75s 370ms/step - loss: 0.6780 - acc: 0.6926 - val_loss: 0.6461 - val_acc: 0.7295\n",
      "Epoch 12/75\n",
      "203/203 [==============================] - 81s 399ms/step - loss: 0.6564 - acc: 0.7045 - val_loss: 0.7672 - val_acc: 0.6955\n",
      "Epoch 13/75\n",
      "203/203 [==============================] - 73s 362ms/step - loss: 0.6403 - acc: 0.7048 - val_loss: 0.8625 - val_acc: 0.6730\n",
      "Epoch 14/75\n",
      "203/203 [==============================] - 72s 356ms/step - loss: 0.6350 - acc: 0.7114 - val_loss: 1.4605 - val_acc: 0.5561\n",
      "Epoch 15/75\n",
      "203/203 [==============================] - 72s 357ms/step - loss: 0.6506 - acc: 0.7165 - val_loss: 0.7665 - val_acc: 0.7010\n",
      "Epoch 16/75\n",
      "203/203 [==============================] - 75s 368ms/step - loss: 0.6389 - acc: 0.7116 - val_loss: 0.7447 - val_acc: 0.6964\n",
      "Epoch 17/75\n",
      "203/203 [==============================] - 72s 357ms/step - loss: 0.6290 - acc: 0.7154 - val_loss: 0.7593 - val_acc: 0.7038\n",
      "Epoch 18/75\n",
      "203/203 [==============================] - 72s 356ms/step - loss: 0.6199 - acc: 0.7204 - val_loss: 1.1658 - val_acc: 0.6132\n",
      "Epoch 19/75\n",
      "203/203 [==============================] - 72s 357ms/step - loss: 0.5985 - acc: 0.7307 - val_loss: 0.6258 - val_acc: 0.7534\n",
      "Epoch 20/75\n",
      "203/203 [==============================] - 78s 383ms/step - loss: 0.6022 - acc: 0.7231 - val_loss: 0.7499 - val_acc: 0.6914\n",
      "Epoch 21/75\n",
      "203/203 [==============================] - 75s 370ms/step - loss: 0.5824 - acc: 0.7383 - val_loss: 0.7943 - val_acc: 0.6808\n",
      "Epoch 22/75\n",
      "203/203 [==============================] - 78s 384ms/step - loss: 0.5901 - acc: 0.7380 - val_loss: 0.8189 - val_acc: 0.6909\n",
      "Epoch 23/75\n",
      "203/203 [==============================] - 76s 374ms/step - loss: 0.5808 - acc: 0.7395 - val_loss: 0.6851 - val_acc: 0.7295\n",
      "Epoch 24/75\n",
      "203/203 [==============================] - 73s 359ms/step - loss: 0.5697 - acc: 0.7511 - val_loss: 0.6206 - val_acc: 0.7562\n",
      "Epoch 25/75\n",
      "203/203 [==============================] - 72s 357ms/step - loss: 0.5709 - acc: 0.7502 - val_loss: 0.7350 - val_acc: 0.7024\n",
      "Epoch 26/75\n",
      "203/203 [==============================] - 72s 356ms/step - loss: 0.5793 - acc: 0.7432 - val_loss: 0.7862 - val_acc: 0.7199\n",
      "Epoch 27/75\n",
      "203/203 [==============================] - 72s 356ms/step - loss: 0.5716 - acc: 0.7510 - val_loss: 0.7104 - val_acc: 0.7240\n",
      "Epoch 28/75\n",
      "203/203 [==============================] - 72s 355ms/step - loss: 0.5646 - acc: 0.7513 - val_loss: 0.5630 - val_acc: 0.7705\n",
      "Epoch 29/75\n",
      "203/203 [==============================] - 78s 384ms/step - loss: 0.5508 - acc: 0.7528 - val_loss: 0.5416 - val_acc: 0.7820\n",
      "Epoch 30/75\n",
      "203/203 [==============================] - 72s 356ms/step - loss: 0.5624 - acc: 0.7615 - val_loss: 0.7360 - val_acc: 0.7254\n",
      "Epoch 31/75\n",
      "203/203 [==============================] - 72s 356ms/step - loss: 0.5421 - acc: 0.7612 - val_loss: 0.8125 - val_acc: 0.7015\n",
      "Epoch 32/75\n",
      "203/203 [==============================] - 72s 355ms/step - loss: 0.5391 - acc: 0.7631 - val_loss: 0.7520 - val_acc: 0.7199\n",
      "Epoch 33/75\n",
      "203/203 [==============================] - 80s 395ms/step - loss: 0.5433 - acc: 0.7615 - val_loss: 0.5966 - val_acc: 0.7723\n",
      "Epoch 34/75\n",
      "203/203 [==============================] - 73s 358ms/step - loss: 0.5447 - acc: 0.7627 - val_loss: 0.5478 - val_acc: 0.7682\n",
      "Epoch 35/75\n",
      "203/203 [==============================] - 73s 358ms/step - loss: 0.5349 - acc: 0.7659 - val_loss: 0.8251 - val_acc: 0.6955\n",
      "Epoch 36/75\n",
      "203/203 [==============================] - 76s 374ms/step - loss: 0.5234 - acc: 0.7702 - val_loss: 0.8840 - val_acc: 0.6872\n",
      "Epoch 37/75\n",
      "203/203 [==============================] - 73s 360ms/step - loss: 0.5413 - acc: 0.7711 - val_loss: 0.8926 - val_acc: 0.7019\n",
      "Epoch 38/75\n",
      "203/203 [==============================] - 73s 358ms/step - loss: 0.5210 - acc: 0.7797 - val_loss: 0.5683 - val_acc: 0.7728\n",
      "Epoch 39/75\n",
      "203/203 [==============================] - 73s 358ms/step - loss: 0.5369 - acc: 0.7672 - val_loss: 0.6257 - val_acc: 0.7599\n",
      "Epoch 40/75\n",
      "203/203 [==============================] - 74s 363ms/step - loss: 0.5101 - acc: 0.7749 - val_loss: 1.1263 - val_acc: 0.6334\n",
      "Epoch 41/75\n",
      "203/203 [==============================] - 74s 363ms/step - loss: 0.5240 - acc: 0.7718 - val_loss: 0.6363 - val_acc: 0.7590\n",
      "Epoch 42/75\n",
      "203/203 [==============================] - 74s 364ms/step - loss: 0.5254 - acc: 0.7738 - val_loss: 0.7583 - val_acc: 0.7263\n",
      "Epoch 43/75\n",
      "203/203 [==============================] - 78s 384ms/step - loss: 0.5095 - acc: 0.7783 - val_loss: 0.5175 - val_acc: 0.8013\n",
      "Epoch 44/75\n",
      "203/203 [==============================] - 78s 386ms/step - loss: 0.5156 - acc: 0.7769 - val_loss: 1.0542 - val_acc: 0.6564\n",
      "Epoch 45/75\n",
      "203/203 [==============================] - 83s 408ms/step - loss: 0.5181 - acc: 0.7766 - val_loss: 1.0340 - val_acc: 0.6500\n",
      "Epoch 46/75\n",
      "203/203 [==============================] - 82s 404ms/step - loss: 0.5065 - acc: 0.7828 - val_loss: 1.1621 - val_acc: 0.6247\n",
      "Epoch 47/75\n",
      "203/203 [==============================] - 73s 357ms/step - loss: 0.4981 - acc: 0.7837 - val_loss: 0.5638 - val_acc: 0.7833\n",
      "Epoch 48/75\n",
      "203/203 [==============================] - 70s 344ms/step - loss: 0.5026 - acc: 0.7809 - val_loss: 1.2026 - val_acc: 0.6164\n",
      "Epoch 49/75\n",
      "203/203 [==============================] - 70s 344ms/step - loss: 0.5043 - acc: 0.7805 - val_loss: 0.9816 - val_acc: 0.6868\n",
      "Epoch 50/75\n",
      "203/203 [==============================] - 70s 343ms/step - loss: 0.4903 - acc: 0.7882 - val_loss: 0.7399 - val_acc: 0.7263\n",
      "Epoch 51/75\n",
      "203/203 [==============================] - 70s 343ms/step - loss: 0.4988 - acc: 0.7821 - val_loss: 0.9612 - val_acc: 0.6757\n",
      "Epoch 52/75\n",
      "203/203 [==============================] - 71s 351ms/step - loss: 0.4878 - acc: 0.7876 - val_loss: 0.6138 - val_acc: 0.7705\n",
      "Epoch 53/75\n",
      "203/203 [==============================] - 72s 354ms/step - loss: 0.4890 - acc: 0.7925 - val_loss: 0.6892 - val_acc: 0.7521\n",
      "Epoch 54/75\n",
      "203/203 [==============================] - 72s 355ms/step - loss: 0.4981 - acc: 0.7854 - val_loss: 0.7722 - val_acc: 0.7190\n",
      "Epoch 55/75\n",
      "203/203 [==============================] - 72s 355ms/step - loss: 0.4678 - acc: 0.8013 - val_loss: 0.7441 - val_acc: 0.7364\n",
      "Epoch 56/75\n",
      "203/203 [==============================] - 72s 355ms/step - loss: 0.4909 - acc: 0.7897 - val_loss: 0.5149 - val_acc: 0.7958\n",
      "Epoch 57/75\n",
      "203/203 [==============================] - 72s 355ms/step - loss: 0.4838 - acc: 0.7932 - val_loss: 0.9873 - val_acc: 0.6831\n",
      "Epoch 58/75\n",
      "203/203 [==============================] - 72s 355ms/step - loss: 0.4780 - acc: 0.7975 - val_loss: 0.9235 - val_acc: 0.7010\n",
      "Epoch 59/75\n",
      "203/203 [==============================] - 72s 356ms/step - loss: 0.4896 - acc: 0.7917 - val_loss: 0.9254 - val_acc: 0.6872\n",
      "Epoch 60/75\n",
      "203/203 [==============================] - 74s 367ms/step - loss: 0.4894 - acc: 0.7900 - val_loss: 0.5799 - val_acc: 0.7691\n",
      "Epoch 61/75\n",
      "203/203 [==============================] - 72s 354ms/step - loss: 0.4703 - acc: 0.8001 - val_loss: 0.4636 - val_acc: 0.8151\n",
      "Epoch 62/75\n",
      "203/203 [==============================] - 72s 355ms/step - loss: 0.4681 - acc: 0.7940 - val_loss: 0.8108 - val_acc: 0.7355\n",
      "Epoch 63/75\n",
      "203/203 [==============================] - 72s 353ms/step - loss: 0.4688 - acc: 0.7987 - val_loss: 0.6849 - val_acc: 0.7530\n",
      "Epoch 64/75\n",
      "203/203 [==============================] - 72s 354ms/step - loss: 0.4628 - acc: 0.8014 - val_loss: 0.8267 - val_acc: 0.7226\n",
      "Epoch 65/75\n",
      "203/203 [==============================] - 72s 354ms/step - loss: 0.4750 - acc: 0.7943 - val_loss: 0.7824 - val_acc: 0.7318\n",
      "Epoch 66/75\n",
      "203/203 [==============================] - 72s 356ms/step - loss: 0.4712 - acc: 0.7967 - val_loss: 0.5818 - val_acc: 0.7806\n",
      "Epoch 67/75\n",
      "203/203 [==============================] - 72s 355ms/step - loss: 0.4753 - acc: 0.7967 - val_loss: 0.8308 - val_acc: 0.7102\n",
      "Epoch 68/75\n",
      "203/203 [==============================] - 72s 353ms/step - loss: 0.4676 - acc: 0.8022 - val_loss: 1.0589 - val_acc: 0.6513\n",
      "Epoch 69/75\n",
      "203/203 [==============================] - 82s 403ms/step - loss: 0.4589 - acc: 0.8050 - val_loss: 0.8148 - val_acc: 0.7065\n",
      "Epoch 70/75\n",
      "203/203 [==============================] - 78s 383ms/step - loss: 0.4594 - acc: 0.7991 - val_loss: 1.2033 - val_acc: 0.6316\n",
      "Epoch 71/75\n",
      "203/203 [==============================] - 87s 428ms/step - loss: 0.4489 - acc: 0.8106 - val_loss: 0.9264 - val_acc: 0.6900\n",
      "Epoch 72/75\n",
      "203/203 [==============================] - 72s 353ms/step - loss: 0.4553 - acc: 0.8020 - val_loss: 1.0594 - val_acc: 0.6633\n",
      "Epoch 73/75\n",
      "203/203 [==============================] - 72s 353ms/step - loss: 0.4636 - acc: 0.8012 - val_loss: 0.7111 - val_acc: 0.7447\n",
      "Epoch 74/75\n",
      "203/203 [==============================] - 72s 354ms/step - loss: 0.4492 - acc: 0.8106 - val_loss: 0.5695 - val_acc: 0.7870\n",
      "Epoch 75/75\n",
      "203/203 [==============================] - 72s 353ms/step - loss: 0.4518 - acc: 0.8064 - val_loss: 0.5567 - val_acc: 0.7939\n",
      "[INFO] training completed\n"
     ]
    }
   ],
   "source": [
    "print(\"[INFO] training network\")\n",
    "\n",
    "history = model.fit_generator(aug.flow(train_x, train_y, batch_size=BATCH_SIZE),\n",
    "                              validation_data=(test_x, test_y),\n",
    "                              steps_per_epoch=len(train_x)//BATCH_SIZE,\n",
    "                              epochs=EPOCHS)\n",
    "\n",
    "print(\"[INFO] training completed\")"
   ]
  },
  {
   "cell_type": "markdown",
   "metadata": {},
   "source": [
    "## Evaluating the model"
   ]
  },
  {
   "cell_type": "code",
   "execution_count": 57,
   "metadata": {},
   "outputs": [],
   "source": [
    "from sklearn.metrics import classification_report"
   ]
  },
  {
   "cell_type": "code",
   "execution_count": 58,
   "metadata": {},
   "outputs": [
    {
     "name": "stdout",
     "output_type": "stream",
     "text": [
      "                        precision    recall  f1-score   support\n",
      "\n",
      "    dyed-lifted-polyps       0.89      0.45      0.60       256\n",
      "dyed-resection-margins       0.67      0.99      0.79       286\n",
      "           esophagitis       0.77      0.76      0.76       268\n",
      "          normal-cecum       0.77      0.97      0.86       258\n",
      "        normal-pylorus       0.94      0.99      0.96       268\n",
      "         normal-z-line       0.77      0.79      0.78       278\n",
      "                polyps       0.93      0.57      0.71       279\n",
      "    ulcerative-colitis       0.80      0.83      0.81       281\n",
      "\n",
      "              accuracy                           0.79      2174\n",
      "             macro avg       0.82      0.79      0.78      2174\n",
      "          weighted avg       0.81      0.79      0.78      2174\n",
      "\n"
     ]
    }
   ],
   "source": [
    "predictions = model.predict(test_x, batch_size=32)\n",
    "\n",
    "correct_predictions = test_y.argmax(axis=1)\n",
    "real_predictions = predictions.argmax(axis=1)\n",
    "\n",
    "class_names = label_binarizer.classes_\n",
    "report = classification_report(correct_predictions, \\\n",
    "                               real_predictions, \\\n",
    "                               target_names=class_names)\n",
    "\n",
    "print(report)"
   ]
  },
  {
   "cell_type": "code",
   "execution_count": 59,
   "metadata": {},
   "outputs": [],
   "source": [
    "import matplotlib.pyplot as plt"
   ]
  },
  {
   "cell_type": "code",
   "execution_count": 60,
   "metadata": {},
   "outputs": [
    {
     "data": {
      "image/png": "[encoded data removed]",
      "text/plain": [
       "<Figure size 432x288 with 1 Axes>"
      ]
     },
     "metadata": {},
     "output_type": "display_data"
    }
   ],
   "source": [
    "PLOT_SAVE_PATH = \"output/evaluation\"\n",
    "\n",
    "epoch_range = np.arange(0, EPOCHS)\n",
    "plt.style.use('ggplot')\n",
    "plt.figure()\n",
    "\n",
    "plt.plot(epoch_range, history.history['loss'], label='Loss(Train)')\n",
    "plt.plot(epoch_range, history.history['val_loss'], label='Loss(Test)')\n",
    "plt.plot(epoch_range, history.history['acc'], label='Accuracy(Train)')\n",
    "plt.plot(epoch_range, history.history['val_acc'], label='Accuracy(Test)')\n",
    "\n",
    "plt.title(\"Training Loss and Accuracy (Simple NN)\")\n",
    "plt.xlabel(\"Epoch Number\")\n",
    "plt.ylabel(\"Loss/Accuracy\")\n",
    "plt.legend()\n",
    "\n",
    "plt.savefig(PLOT_SAVE_PATH)\n",
    "\n",
    "plt.show()"
   ]
  },
  {
   "cell_type": "markdown",
   "metadata": {},
   "source": [
    "Saving the model in disk."
   ]
  },
  {
   "cell_type": "code",
   "execution_count": 63,
   "metadata": {},
   "outputs": [],
   "source": [
    "MODEL_SAVE_PATH = \"output/model.hdf\"\n",
    "CLASSES_SAVE_PATH = \"output/classes.txt\"\n",
    "\n",
    "model.save(MODEL_SAVE_PATH)\n",
    "\n",
    "with open(CLASSES_SAVE_PATH, 'w') as fw:\n",
    "    fw.write('\\n'.join(label_binarizer.classes_))"
   ]
  },
  {
   "cell_type": "markdown",
   "metadata": {},
   "source": [
    "## Predicting for new data "
   ]
  },
  {
   "cell_type": "code",
   "execution_count": 64,
   "metadata": {},
   "outputs": [],
   "source": [
    "from keras.models import load_model\n",
    "import cv2"
   ]
  },
  {
   "cell_type": "code",
   "execution_count": 84,
   "metadata": {},
   "outputs": [],
   "source": [
    "IMAGE_LOAD_PATH = \"images/dyed-resection-margins/016cc0c1-2a9e-464c-884f-0997561f7dde.jpg\"\n",
    "\n",
    "image = cv2.imread(IMAGE_LOAD_PATH)\n",
    "image = cv2.resize(image, (IMAGE_SIZE, IMAGE_SIZE))\n",
    "\n",
    "model = load_model(MODEL_SAVE_PATH)\n",
    "\n",
    "with open(CLASSES_SAVE_PATH, 'r') as fr:\n",
    "    classes = fr.read().split('\\n')\n",
    "    classes = list(map(str.strip, classes))"
   ]
  },
  {
   "cell_type": "code",
   "execution_count": 85,
   "metadata": {},
   "outputs": [],
   "source": [
    "image = np.array(image)/255\n",
    "image = np.expand_dims(image, axis=0)\n",
    "prediction = model.predict(image)\n",
    "\n",
    "pred_i = prediction.argmax(axis=1)[0]\n",
    "predicted_label = label_binarizer.classes_[pred_i]"
   ]
  },
  {
   "cell_type": "code",
   "execution_count": 86,
   "metadata": {},
   "outputs": [
    {
     "data": {
      "text/plain": [
       "[('dyed-lifted-polyps', 0.00028785513),\n",
       " ('dyed-resection-margins', 0.99971217),\n",
       " ('esophagitis', 4.997105e-14),\n",
       " ('normal-cecum', 4.1262252e-10),\n",
       " ('normal-pylorus', 2.5288848e-15),\n",
       " ('normal-z-line', 1.3869674e-12),\n",
       " ('polyps', 4.4392258e-16),\n",
       " ('ulcerative-colitis', 2.7872929e-14)]"
      ]
     },
     "execution_count": 86,
     "metadata": {},
     "output_type": "execute_result"
    }
   ],
   "source": [
    "list(zip(label_binarizer.classes_, prediction[0]))"
   ]
  },
  {
   "cell_type": "code",
   "execution_count": 87,
   "metadata": {},
   "outputs": [
    {
     "data": {
      "text/plain": [
       "'dyed-resection-margins'"
      ]
     },
     "execution_count": 87,
     "metadata": {},
     "output_type": "execute_result"
    }
   ],
   "source": [
    "predicted_label"
   ]
  },
  {
   "cell_type": "code",
   "execution_count": 88,
   "metadata": {},
   "outputs": [],
   "source": [
    "import matplotlib.pyplot as plt"
   ]
  },
  {
   "cell_type": "code",
   "execution_count": 89,
   "metadata": {},
   "outputs": [
    {
     "data": {
      "text/plain": [
       "<matplotlib.image.AxesImage at 0x7f17dd0d3588>"
      ]
     },
     "execution_count": 89,
     "metadata": {},
     "output_type": "execute_result"
    },
    {
     "data": {
      "image/png": "[encoded data removed]",
      "text/plain": [
       "<Figure size 432x288 with 1 Axes>"
      ]
     },
     "metadata": {},
     "output_type": "display_data"
    }
   ],
   "source": [
    "output = cv2.imread(IMAGE_LOAD_PATH)\n",
    "\n",
    "text = \"{}: {:.2f}%\".format(predicted_label, prediction[0][pred_i] * 100)\n",
    "\n",
    "cv2.putText(output, text, (50, 50), cv2.FONT_HERSHEY_SIMPLEX, 1.2,\n",
    "\t(255, 255, 0), 3)\n",
    "\n",
    "plt.axis('off')\n",
    "plt.imshow(output)"
   ]
  }
 ],
 "metadata": {
  "kernelspec": {
   "display_name": "Python 3",
   "language": "python",
   "name": "python3"
  },
  "language_info": {
   "codemirror_mode": {
    "name": "ipython",
    "version": 3
   },
   "file_extension": ".py",
   "mimetype": "text/x-python",
   "name": "python",
   "nbconvert_exporter": "python",
   "pygments_lexer": "ipython3",
   "version": "3.7.3"
  }
 },
 "nbformat": 4,
 "nbformat_minor": 4
}
